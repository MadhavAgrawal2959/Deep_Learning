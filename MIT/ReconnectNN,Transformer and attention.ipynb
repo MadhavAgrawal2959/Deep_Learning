{
 "cells": [
  {
   "cell_type": "markdown",
   "metadata": {},
   "source": [
    "# RNN Intitution"
   ]
  },
  {
   "cell_type": "code",
   "execution_count": null,
   "metadata": {},
   "outputs": [],
   "source": [
    "my_rnn=RNN()\n",
    "hiding_state=[0,0,0,0]\n",
    "\n",
    "sentence=[\"I\",\"am\",\"felling\",\"hungry\"]\n",
    "\n",
    "for word in sentence:\n",
    "    prediction, hidden_state=my_rnn(word,hidden_state)\n",
    "\n",
    "next_word_prediction=prediction"
   ]
  },
  {
   "cell_type": "markdown",
   "metadata": {},
   "source": [
    "# RNN from Scratch"
   ]
  },
  {
   "cell_type": "code",
   "execution_count": null,
   "metadata": {},
   "outputs": [],
   "source": [
    "class myRNNcell(tf.keras.layers.Layer):\n",
    "    def __intit__(self,rnn_units,input_dim,output_dim):\n",
    "        super(myRNNcell,self).__init__()\n",
    "\n",
    "        #Intialize weight matrices\n",
    "        self.W_xh=self.add_weight([rnn_units,input_dim])\n",
    "        self.W_hh=self.add_weight([rnn_units,rnn_units])\n",
    "        self.W_hy=self.add_weight([rnn_units,rnn_units])\n",
    "\n",
    "        #Initialize hidden state\n",
    "        self.h = tf.zeros([rnn_units,1])\n",
    "\n",
    "    def call(self,x):\n",
    "        #update the hidden state\n",
    "        self.h =tf.math.tanh(self.W_hh*self.h+self.W_xh*x)\n",
    "        \n",
    "        #compute the output\n",
    "        output=self.W_hy*self.h\n",
    "        \n",
    "        #Return the Current output and hidden state\n",
    "        return output,self.h\n",
    "        "
   ]
  },
  {
   "cell_type": "markdown",
   "metadata": {},
   "source": [
    "# RNN for Sequence Modeling"
   ]
  },
  {
   "cell_type": "code",
   "execution_count": null,
   "metadata": {},
   "outputs": [],
   "source": [
    "rnn = myRNNcell(rnn_units=64,input_dim=100,output_dim=100)\n",
    "x = tf.random.normal([100,100])\n",
    "output,h = rnn(x)\n",
    "print(output.shape,h.shape)"
   ]
  }
 ],
 "metadata": {
  "kernelspec": {
   "display_name": "Python 3",
   "language": "python",
   "name": "python3"
  },
  "language_info": {
   "codemirror_mode": {
    "name": "ipython",
    "version": 3
   },
   "file_extension": ".py",
   "mimetype": "text/x-python",
   "name": "python",
   "nbconvert_exporter": "python",
   "pygments_lexer": "ipython3",
   "version": "3.12.5"
  }
 },
 "nbformat": 4,
 "nbformat_minor": 2
}
