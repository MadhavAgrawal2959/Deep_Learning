{
 "cells": [
  {
   "cell_type": "markdown",
   "metadata": {},
   "source": [
    "# RNN Intitution"
   ]
  },
  {
   "cell_type": "code",
   "execution_count": null,
   "metadata": {},
   "outputs": [],
   "source": [
    "my_rnn=RNN()\n",
    "hiding_state=[0,0,0,0]\n",
    "\n",
    "sentence=[\"I\",\"am\",\"felling\",\"hungry\"]\n",
    "\n",
    "for word in sentence:\n",
    "    prediction, hidden_state=my_rnn(word,hidden_state)\n",
    "\n",
    "next_word_prediction=prediction"
   ]
  },
  {
   "cell_type": "markdown",
   "metadata": {},
   "source": [
    "# RNN from Scratch"
   ]
  },
  {
   "cell_type": "code",
   "execution_count": null,
   "metadata": {},
   "outputs": [],
   "source": [
    "class myRNNcell(tf.keras.layers.Layer):\n",
    "    def __intit__(self,rnn_units,input_dim,output_dim):\n",
    "        super(myRNNcell,self).__init__()\n",
    "\n",
    "        #Intialize weight matrices\n",
    "        self.W_xh=self.add_weight([rnn_units,imput_dim])\n",
    "        self.W_hh=self.add_weight([rnn_units,rnn_units])\n",
    "        self.W_hy=self.add_weight([rnn_units,rnn_units])\n",
    "\n",
    "        #Initialize hidden state\n",
    "        self.h= tf.zeros([rnn_units,1])"
   ]
  },
  {
   "cell_type": "code",
   "execution_count": null,
   "metadata": {},
   "outputs": [],
   "source": []
  }
 ],
 "metadata": {
  "language_info": {
   "name": "python"
  }
 },
 "nbformat": 4,
 "nbformat_minor": 2
}
