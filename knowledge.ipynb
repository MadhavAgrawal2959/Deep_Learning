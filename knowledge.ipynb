{
 "cells": [
  {
   "cell_type": "code",
   "execution_count": null,
   "metadata": {},
   "outputs": [],
   "source": [
    "import tensorflow as tf\n",
    "class MyDenseLayer(tf.keras.layers.Layer):\n",
    "    def __init__(self,input_dim,output_dim):\n",
    "        super(MyDenseLayer,self).__init__()\n",
    "\n",
    "        #initialize weights and biases\n",
    "        self.W=self.add_weight([input_dim,output_dim])\n",
    "        self.b=self.add_weight([1,output_dim])\n",
    "\n",
    "    def call(self, input):\n",
    "\n",
    "        #forward propagate the inputs\n",
    "        z=tf.matmul(inputs,self.W)+self.b  \n",
    "\n",
    "        #feed through a non-linear activation\n",
    "        output=tf.math.sigmoid(z)\n",
    "\n",
    "        return output\n",
    "\n"
   ]
  },
  {
   "cell_type": "code",
   "execution_count": null,
   "metadata": {},
   "outputs": [],
   "source": []
  }
 ],
 "metadata": {
  "language_info": {
   "name": "python"
  }
 },
 "nbformat": 4,
 "nbformat_minor": 2
}
