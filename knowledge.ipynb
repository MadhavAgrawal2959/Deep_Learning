{
 "cells": [
  {
   "cell_type": "markdown",
   "metadata": {},
   "source": [
    "this is single output perceptron"
   ]
  },
  {
   "cell_type": "code",
   "execution_count": null,
   "metadata": {},
   "outputs": [],
   "source": [
    "import tensorflow as tf\n",
    "class MyDenseLayer(tf.keras.layers.Layer):\n",
    "    def __init__(self,input_dim,output_dim):\n",
    "        super(MyDenseLayer,self).__init__()\n",
    "\n",
    "        #initialize weights and biases\n",
    "        self.W=self.add_weight([input_dim,output_dim])\n",
    "        self.b=self.add_weight([1,output_dim])\n",
    "\n",
    "    def call(self, input):\n",
    "\n",
    "        #forward propagate the inputs\n",
    "        z=tf.matmul(inputs,self.W)+self.b  # here we are implementing the equation z=wx+b where w is the weight matrix and b is the bias matrix and inputs is the input matrix i.e. the input to the layer\n",
    "\n",
    "        #feed through a non-linear activation\n",
    "        output=tf.math.sigmoid(z)\n",
    "\n",
    "        return output\n",
    "\n",
    "\n",
    "\n",
    "## instead of using the add_weight method, we can use the Dense class\n",
    "\n",
    "import tensorfow as tf\n",
    "\n",
    "layer=tf.keras.layers.Dense(units=2)"
   ]
  },
  {
   "cell_type": "markdown",
   "metadata": {},
   "source": [
    "multi output perceptron"
   ]
  },
  {
   "cell_type": "code",
   "execution_count": null,
   "metadata": {},
   "outputs": [],
   "source": [
    "import tensorflow as tf\n",
    "model=tf.keras.Sequential([\n",
    "    tf.keras.layers.Dense(n)#here n is the number of units in the Hidden layer \n",
    "    ,tf.keras.layers.Dense(2)\n",
    "])"
   ]
  },
  {
   "cell_type": "code",
   "execution_count": null,
   "metadata": {},
   "outputs": [],
   "source": []
  }
 ],
 "metadata": {
  "language_info": {
   "name": "python"
  }
 },
 "nbformat": 4,
 "nbformat_minor": 2
}
